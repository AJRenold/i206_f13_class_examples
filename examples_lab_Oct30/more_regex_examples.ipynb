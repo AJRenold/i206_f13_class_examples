{
 "metadata": {
  "name": ""
 },
 "nbformat": 3,
 "nbformat_minor": 0,
 "worksheets": [
  {
   "cells": [
    {
     "cell_type": "markdown",
     "metadata": {},
     "source": [
      "## Python Regex\n",
      "\n",
      "Important things to understand\n",
      "\n",
      "* `\\b` versus `^` and `$` and don't forget `[^A-Z]`\n",
      "\n",
      "* Uses of `\\w` `\\d` `\\s`\n",
      "\n",
      "* `*` versus `+` versus `{m,n}`\n",
      "\n",
      "* Uses of sets `[abc]`\n",
      "\n",
      "* Uses of optional character or groups with `?`\n",
      "\n",
      "* Greedy versus Non-Greedy `.*` and `.*?`\n",
      "\n",
      "* Using re.VERBOSE\n"
     ]
    },
    {
     "cell_type": "code",
     "collapsed": false,
     "input": [
      "import re"
     ],
     "language": "python",
     "metadata": {},
     "outputs": [],
     "prompt_number": 1
    },
    {
     "cell_type": "code",
     "collapsed": false,
     "input": [
      "## Example from f09t2\n",
      "\n",
      "state_zip = ['CA 94720-4600','NV 10001','XY 99999-9991', 'CA 94720+4600', 'NY10001', 'XY, 99999']\n",
      "\n",
      "states_and_zip = re.compile(r'''\n",
      "                        ^[A-Z]{2}   # Starts with two alpha\n",
      "                        \\           # single space (needs \\ to escape)\n",
      "                        \\d{5}       # five digits\n",
      "                        (?:-\\d{4})?  # optional - and four digits\n",
      "                        $           # ends after optional group (If you remove the $, 'CA 94720+4600' is matched \n",
      "                        '''\n",
      "                         ,flags=re.VERBOSE)\n",
      "\n",
      "for state in state_zip:\n",
      "    m = re.match(states_and_zip, state)\n",
      "    if m:\n",
      "        print 'matched: '+ m.group()\n",
      "    else:\n",
      "        print 'not mactched: '+state"
     ],
     "language": "python",
     "metadata": {},
     "outputs": [
      {
       "output_type": "stream",
       "stream": "stdout",
       "text": [
        "matched: CA 94720-4600\n",
        "matched: NV 10001\n",
        "matched: XY 99999-9991\n",
        "not mactched: CA 94720+4600\n",
        "not mactched: NY10001\n",
        "not mactched: XY, 99999\n"
       ]
      }
     ],
     "prompt_number": 396
    },
    {
     "cell_type": "code",
     "collapsed": false,
     "input": [
      "def get_moby_dick():\n",
      "    with open('pg2701.txt') as infile:\n",
      "        words = infile.read().strip().split(' ')\n",
      "     \n",
      "    ## Adding Everything for Tim\n",
      "    words.append('Everything')\n",
      "    return words\n",
      "\n",
      "words = get_moby_dick()"
     ],
     "language": "python",
     "metadata": {},
     "outputs": [],
     "prompt_number": 301
    },
    {
     "cell_type": "code",
     "collapsed": false,
     "input": [
      "## Pos Lookahead example from http://www.regular-expressions.info/lookaround.html\n",
      "## Let's match ten letter words that start with a capital letter\n",
      "\n",
      "words_pattern = re.compile(r'''\n",
      "                    (?=\\b\\w{10}\\b)            # pos lookahead to check if a word has 10 characters\n",
      "                    ([A-Z])([a-z]*y[a-z]*)    # matches Capital letter, any word containing y, returns 2 groups\n",
      "                    '''\n",
      "                 ,flags=re.VERBOSE)\n",
      "\n",
      "for word in words:\n",
      "    m = re.match(words_pattern, word)\n",
      "    if m:\n",
      "        # If a match is found, print all of the groups\n",
      "        print 'all groups:', m.group(), 'group1:', m.group(1), 'group2:', m.group(2)"
     ],
     "language": "python",
     "metadata": {},
     "outputs": [
      {
       "output_type": "stream",
       "stream": "stdout",
       "text": [
        "all groups: University group1: U group2: niversity\n",
        "all groups: Euroclydon group1: E group2: uroclydon\n",
        "all groups: Euroclydon group1: E group2: uroclydon\n",
        "all groups: Euroclydon group1: E group2: uroclydon\n",
        "all groups: Euroclydon group1: E group2: uroclydon\n",
        "all groups:"
       ]
      },
      {
       "output_type": "stream",
       "stream": "stdout",
       "text": [
        " Canterbury group1: C group2: anterbury\n",
        "all groups: Uncommonly group1: U group2: ncommonly\n",
        "all groups:"
       ]
      },
      {
       "output_type": "stream",
       "stream": "stdout",
       "text": [
        " Vineyarder group1: V group2: ineyarder\n",
        "all groups: Willoughby group1: W group2: illoughby\n",
        "all groups: Mysticetus group1: M group2: ysticetus\n",
        "all groups: Originally group1: O group2: riginally\n",
        "all groups: Vehemently group1: V group2: ehemently\n",
        "all groups:"
       ]
      },
      {
       "output_type": "stream",
       "stream": "stdout",
       "text": [
        " Vineyarder group1: V group2: ineyarder\n",
        "all groups: Polynesian group1: P group2: olynesian\n",
        "all groups: Venetianly group1: V group2: enetianly\n",
        "all groups: Mysticetus group1: M group2: ysticetus\n",
        "all groups:"
       ]
      },
      {
       "output_type": "stream",
       "stream": "stdout",
       "text": [
        " Unerringly group1: U group2: nerringly\n",
        "all groups: Ultimately group1: U group2: ltimately\n",
        "all groups:"
       ]
      },
      {
       "output_type": "stream",
       "stream": "stdout",
       "text": [
        " Tranquilly group1: T group2: ranquilly\n",
        "all groups: Pythagoras group1: P group2: ythagoras\n",
        "all groups:"
       ]
      },
      {
       "output_type": "stream",
       "stream": "stdout",
       "text": [
        " Babylonian group1: B group2: abylonian\n",
        "all groups: Hoveringly group1: H group2: overingly\n",
        "all groups:"
       ]
      },
      {
       "output_type": "stream",
       "stream": "stdout",
       "text": [
        " Everything group1: E group2: verything\n"
       ]
      }
     ],
     "prompt_number": 398
    },
    {
     "cell_type": "code",
     "collapsed": false,
     "input": [
      "## Neg Lookahead example from http://docs.python.org/2/howto/regex.html\n",
      "file_names = ['document.doc', 'assignment.pdf', 'test.docx', 'homework.py', 'more_homework.txt', 'not a file', 'test. ', '.other', 'word']\n",
      "\n",
      "# What if we don't want .doc? Use a neg lookahead! (?!doc)\n",
      "# Be sure to include a $ to make sure the string ends with doc and there are no more characters.\n",
      "file_names_pattern = re.compile(r'''\n",
      "                            \\w+      # alphanumeric and _ one or more\n",
      "                            \\.       # period character\n",
      "                            \\w+      # ends with, alphhanumeric and _ one or more\n",
      "                            '''\n",
      "                         ,flags=re.VERBOSE)\n",
      "\n",
      "file_names_pattern_exclude_doc = re.compile(r'''\n",
      "                            \\w+      # alphanumeric and _ one or more\n",
      "                            \\.       # period character\n",
      "                            (?!doc$) # negative lookahead to exclude doc, if the string ends with doc\n",
      "                            \\w+      # ends with, alphhanumeric and _ one or more\n",
      "                            '''\n",
      "                         ,flags=re.VERBOSE)\n",
      "\n",
      "for fname in file_names:\n",
      "    ## also try re.match(file_names_pattern_exclude, fname)\n",
      "    m = re.match(file_names_pattern, fname)\n",
      "    if m:\n",
      "        print 'matched: '+ m.group()\n",
      "    else:\n",
      "        print 'not matched: '+ fname"
     ],
     "language": "python",
     "metadata": {},
     "outputs": [
      {
       "output_type": "stream",
       "stream": "stdout",
       "text": [
        "matched: document.doc\n",
        "matched: assignment.pdf\n",
        "matched: test.docx\n",
        "matched: homework.py\n",
        "matched: more_homework.txt\n",
        "not matched: not a file\n",
        "not matched: test. \n",
        "not matched: .other\n",
        "not matched: word\n"
       ]
      }
     ],
     "prompt_number": 397
    }
   ],
   "metadata": {}
  }
 ]
}